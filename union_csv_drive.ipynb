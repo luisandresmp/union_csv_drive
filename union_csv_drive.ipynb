# Acceso al sistema de archivos
from google.colab import drive
drive.mount('/content/drive')
from os import listdir
import pandas as pd
import os

#funciones
def ls(ruta = '.'):
    return listdir(ruta)

def csv_selection(list_: list):
  """función para seleccionar solo los archivos csv"""

  file_csv_list = []

  for file_ in list_:
    if '.csv' in file_:
      file_csv_list.append(file_) 
    else:
      pass
  
  return file_csv_list

def load_data_MyDrive(df, filename): 
  """función para guardar el df en MyDrive"""

  %cd '/content/drive/My Drive/'
  df.to_csv(f'datos_{filename}.csv')

# Consulto los datos de ubicación de archivos originales y resultado del proceso
url_files = '/content/drive/My Drive/' + input('¿Cual es la ruta de tus archivos? \n la ruta debe tener este formato carpeta/subcarpeta--------->  ') + '/'
os.chdir(url_files) # la ruta absoluta
file_list = ls()

delimitador = input('¿Cual es el delimitador de tus archivos?\n [ , ; : | ]--------->  ')
filename = input('¿Como quieres que se llame el archivo resultado?  ')

# Solo selecciono los archivos csv
print('\n Seleccionando archivos .csv \n ')
try:
  list_clean = csv_selection(file_list)

  list_df = []

  # concateno todos los archivos
  print('\n Uniendo los archivos .csv \n ')
  try:
    for file_ in list_clean:
      df = pd.read_csv(list_clean[0], delimiter=delimitador)
      list_df.append(df)
    
    df_end = pd.concat(list_df, ignore_index=True)

    #%cd '/content/drive/My Drive/'

    load_data_MyDrive(df_end,filename)

    print(f'\n\n\n Archivo creado')

  except Exception as e:
    print(f'\n\n\n ERROR -- Verifica el delimitar del csv')

except Exception as e:
  print(f'\n\n\n ERROR -- Verifica la ruta de los archivos')
  print(e)
